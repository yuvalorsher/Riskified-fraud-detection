{
 "cells": [
  {
   "cell_type": "markdown",
   "id": "64e50868-1863-4253-af61-225018220e25",
   "metadata": {},
   "source": [
    "# Imports and consts"
   ]
  },
  {
   "cell_type": "code",
   "execution_count": 1,
   "id": "cb067674-a1ad-4c3f-9c87-dfe3adb1f1ba",
   "metadata": {},
   "outputs": [
    {
     "ename": "ModuleNotFoundError",
     "evalue": "No module named 'utils'",
     "output_type": "error",
     "traceback": [
      "\u001b[1;31m---------------------------------------------------------------------------\u001b[0m",
      "\u001b[1;31mModuleNotFoundError\u001b[0m                       Traceback (most recent call last)",
      "Cell \u001b[1;32mIn[1], line 7\u001b[0m\n\u001b[0;32m      4\u001b[0m \u001b[38;5;28;01mimport\u001b[39;00m \u001b[38;5;21;01mmatplotlib\u001b[39;00m\u001b[38;5;21;01m.\u001b[39;00m\u001b[38;5;21;01mpyplot\u001b[39;00m \u001b[38;5;28;01mas\u001b[39;00m \u001b[38;5;21;01mplt\u001b[39;00m\n\u001b[0;32m      5\u001b[0m \u001b[38;5;28;01mimport\u001b[39;00m \u001b[38;5;21;01mseaborn\u001b[39;00m \u001b[38;5;28;01mas\u001b[39;00m \u001b[38;5;21;01msns\u001b[39;00m\n\u001b[1;32m----> 7\u001b[0m \u001b[38;5;28;01mfrom\u001b[39;00m \u001b[38;5;21;01meda_utils\u001b[39;00m\u001b[38;5;21;01m.\u001b[39;00m\u001b[38;5;21;01mplotting\u001b[39;00m \u001b[38;5;28;01mimport\u001b[39;00m plot_cat_counts\n",
      "File \u001b[1;32mD:\\Google Drive (not syncing)\\Bill and Bureaucracy\\חיפוש עבודה\\Data Science\\Riskified\\Home assignment\\Riskified-fraud-detection\\eda_utils\\plotting.py:6\u001b[0m\n\u001b[0;32m      4\u001b[0m \u001b[38;5;28;01mimport\u001b[39;00m \u001b[38;5;21;01mseaborn\u001b[39;00m \u001b[38;5;28;01mas\u001b[39;00m \u001b[38;5;21;01msns\u001b[39;00m\n\u001b[0;32m      5\u001b[0m \u001b[38;5;28;01mfrom\u001b[39;00m \u001b[38;5;21;01mseaborn\u001b[39;00m \u001b[38;5;28;01mimport\u001b[39;00m PairGrid\n\u001b[1;32m----> 6\u001b[0m \u001b[38;5;28;01mfrom\u001b[39;00m \u001b[38;5;21;01mutils\u001b[39;00m\u001b[38;5;21;01m.\u001b[39;00m\u001b[38;5;21;01mconsts\u001b[39;00m \u001b[38;5;28;01mimport\u001b[39;00m FREQ_SHORT_TO_FULL\n\u001b[0;32m      9\u001b[0m \u001b[38;5;28;01mdef\u001b[39;00m \u001b[38;5;21mcalc_nrows_from_ncols\u001b[39m(nplots: \u001b[38;5;28mint\u001b[39m, ncols: \u001b[38;5;28mint\u001b[39m \u001b[38;5;241m=\u001b[39m \u001b[38;5;241m3\u001b[39m, nrows: \u001b[38;5;28mint\u001b[39m \u001b[38;5;241m|\u001b[39m \u001b[38;5;28;01mNone\u001b[39;00m \u001b[38;5;241m=\u001b[39m \u001b[38;5;28;01mNone\u001b[39;00m) \u001b[38;5;241m-\u001b[39m\u001b[38;5;241m>\u001b[39m \u001b[38;5;28mint\u001b[39m:\n\u001b[0;32m     10\u001b[0m \u001b[38;5;250m    \u001b[39m\u001b[38;5;124;03m\"\"\"\u001b[39;00m\n\u001b[0;32m     11\u001b[0m \u001b[38;5;124;03m    Calculate how many rows are needed in a subplot, given nplots and desired ncols.\u001b[39;00m\n\u001b[0;32m     12\u001b[0m \u001b[38;5;124;03m    If nrows is given, function just returns nrows.\u001b[39;00m\n\u001b[0;32m     13\u001b[0m \u001b[38;5;124;03m    \"\"\"\u001b[39;00m\n",
      "\u001b[1;31mModuleNotFoundError\u001b[0m: No module named 'utils'"
     ]
    }
   ],
   "source": [
    "import numpy as np\n",
    "import pandas as pd\n",
    "\n",
    "import matplotlib.pyplot as plt\n",
    "import seaborn as sns\n",
    "\n",
    "from eda_utils.plotting import plot_cat_counts"
   ]
  },
  {
   "cell_type": "code",
   "execution_count": 10,
   "id": "8376902c-11fb-478c-be1e-83d02f8ef48c",
   "metadata": {},
   "outputs": [],
   "source": [
    "DATA_PATH = 'Data/'\n",
    "FILE_NAME = 'riskified_ds_home_task_dataset_(3).csv'"
   ]
  },
  {
   "cell_type": "markdown",
   "id": "f3c03358-94e8-40e1-84f7-3f61ff7bfa5e",
   "metadata": {},
   "source": [
    "# Load and Explore Data"
   ]
  },
  {
   "cell_type": "markdown",
   "id": "24c45530-074c-4626-a3e9-9a76f950c6da",
   "metadata": {},
   "source": [
    "## Load"
   ]
  },
  {
   "cell_type": "code",
   "execution_count": 15,
   "id": "67a5da65-645e-424f-94c2-01b73e495944",
   "metadata": {},
   "outputs": [
    {
     "name": "stderr",
     "output_type": "stream",
     "text": [
      "C:\\Users\\uvors\\AppData\\Local\\Temp\\ipykernel_6536\\4229271681.py:1: DtypeWarning: Columns (10) have mixed types. Specify dtype option on import or set low_memory=False.\n",
      "  raw_df = pd.read_csv(f'{DATA_PATH}{FILE_NAME}', parse_dates=['created_at'])\n"
     ]
    },
    {
     "data": {
      "text/plain": [
       "(190000, 21)"
      ]
     },
     "execution_count": 15,
     "metadata": {},
     "output_type": "execute_result"
    }
   ],
   "source": [
    "raw_df = pd.read_csv(f'{DATA_PATH}{FILE_NAME}', parse_dates=['created_at'])\n",
    "raw_df.shape"
   ]
  },
  {
   "cell_type": "code",
   "execution_count": 12,
   "id": "085d354d-2472-483a-ba6e-229c60442644",
   "metadata": {},
   "outputs": [
    {
     "name": "stdout",
     "output_type": "stream",
     "text": [
      "<class 'pandas.core.frame.DataFrame'>\n",
      "RangeIndex: 190000 entries, 0 to 189999\n",
      "Data columns (total 21 columns):\n",
      " #   Column                   Non-Null Count   Dtype  \n",
      "---  ------                   --------------   -----  \n",
      " 0   order_id                 190000 non-null  int64  \n",
      " 1   status                   190000 non-null  object \n",
      " 2   email_anoni              190000 non-null  object \n",
      " 3   billing_country_code     189223 non-null  object \n",
      " 4   shipping_country_code    189721 non-null  object \n",
      " 5   shipping_method          185461 non-null  object \n",
      " 6   created_at               190000 non-null  object \n",
      " 7   total_spent              190000 non-null  float64\n",
      " 8   currency_code            190000 non-null  object \n",
      " 9   gateway                  189862 non-null  object \n",
      " 10  V1_link                  189993 non-null  object \n",
      " 11  V2_distance              157964 non-null  float64\n",
      " 12  V3_distance              158957 non-null  float64\n",
      " 13  V4_our_age               189993 non-null  float64\n",
      " 14  V5_merchant_age          189993 non-null  float64\n",
      " 15  V6_avs_result            189993 non-null  object \n",
      " 16  V7_bill_ship_name_match  189993 non-null  object \n",
      " 17  V8_ip                    185132 non-null  float64\n",
      " 18  V9_cookie                189816 non-null  float64\n",
      " 19  V10_cookie               188148 non-null  float64\n",
      " 20  V11_cookie               111295 non-null  float64\n",
      "dtypes: float64(9), int64(1), object(11)\n",
      "memory usage: 30.4+ MB\n"
     ]
    }
   ],
   "source": [
    "raw_df.info()"
   ]
  },
  {
   "cell_type": "markdown",
   "id": "aa690ed9-cd26-478f-9b8e-e39c9e7397e7",
   "metadata": {},
   "source": [
    "## Destributions"
   ]
  },
  {
   "cell_type": "markdown",
   "id": "4a019fbe-2ff2-4c46-81cf-5c5cbea00527",
   "metadata": {},
   "source": [
    "### Numerical"
   ]
  },
  {
   "cell_type": "code",
   "execution_count": 13,
   "id": "9dbd50e9-d4ca-48fe-a35d-432757defc82",
   "metadata": {},
   "outputs": [
    {
     "data": {
      "text/html": [
       "<div>\n",
       "<style scoped>\n",
       "    .dataframe tbody tr th:only-of-type {\n",
       "        vertical-align: middle;\n",
       "    }\n",
       "\n",
       "    .dataframe tbody tr th {\n",
       "        vertical-align: top;\n",
       "    }\n",
       "\n",
       "    .dataframe thead th {\n",
       "        text-align: right;\n",
       "    }\n",
       "</style>\n",
       "<table border=\"1\" class=\"dataframe\">\n",
       "  <thead>\n",
       "    <tr style=\"text-align: right;\">\n",
       "      <th></th>\n",
       "      <th>order_id</th>\n",
       "      <th>total_spent</th>\n",
       "      <th>V2_distance</th>\n",
       "      <th>V3_distance</th>\n",
       "      <th>V4_our_age</th>\n",
       "      <th>V5_merchant_age</th>\n",
       "      <th>V8_ip</th>\n",
       "      <th>V9_cookie</th>\n",
       "      <th>V10_cookie</th>\n",
       "      <th>V11_cookie</th>\n",
       "    </tr>\n",
       "  </thead>\n",
       "  <tbody>\n",
       "    <tr>\n",
       "      <th>count</th>\n",
       "      <td>1.900000e+05</td>\n",
       "      <td>190000.000000</td>\n",
       "      <td>157964.000000</td>\n",
       "      <td>158957.000000</td>\n",
       "      <td>189993.000000</td>\n",
       "      <td>189993.000000</td>\n",
       "      <td>185132.000000</td>\n",
       "      <td>189816.000000</td>\n",
       "      <td>188148.000000</td>\n",
       "      <td>111295.000000</td>\n",
       "    </tr>\n",
       "    <tr>\n",
       "      <th>mean</th>\n",
       "      <td>1.589366e+08</td>\n",
       "      <td>262.806693</td>\n",
       "      <td>1176.859443</td>\n",
       "      <td>1262.328208</td>\n",
       "      <td>653.947451</td>\n",
       "      <td>216.220645</td>\n",
       "      <td>0.076579</td>\n",
       "      <td>82.207796</td>\n",
       "      <td>5.305185</td>\n",
       "      <td>47.386270</td>\n",
       "    </tr>\n",
       "    <tr>\n",
       "      <th>std</th>\n",
       "      <td>3.234140e+07</td>\n",
       "      <td>497.157831</td>\n",
       "      <td>3088.102927</td>\n",
       "      <td>3206.620899</td>\n",
       "      <td>2046.051781</td>\n",
       "      <td>6976.480661</td>\n",
       "      <td>0.387298</td>\n",
       "      <td>589.419776</td>\n",
       "      <td>9.227724</td>\n",
       "      <td>114.170882</td>\n",
       "    </tr>\n",
       "    <tr>\n",
       "      <th>min</th>\n",
       "      <td>2.179327e+07</td>\n",
       "      <td>0.000000</td>\n",
       "      <td>0.000000</td>\n",
       "      <td>0.000000</td>\n",
       "      <td>0.000000</td>\n",
       "      <td>-323.000000</td>\n",
       "      <td>0.000000</td>\n",
       "      <td>0.000000</td>\n",
       "      <td>0.000000</td>\n",
       "      <td>-140.884769</td>\n",
       "    </tr>\n",
       "    <tr>\n",
       "      <th>25%</th>\n",
       "      <td>1.319893e+08</td>\n",
       "      <td>77.400000</td>\n",
       "      <td>4.000000</td>\n",
       "      <td>4.000000</td>\n",
       "      <td>0.000000</td>\n",
       "      <td>0.000000</td>\n",
       "      <td>0.000000</td>\n",
       "      <td>0.000000</td>\n",
       "      <td>0.631284</td>\n",
       "      <td>0.016134</td>\n",
       "    </tr>\n",
       "    <tr>\n",
       "      <th>50%</th>\n",
       "      <td>1.576925e+08</td>\n",
       "      <td>140.400000</td>\n",
       "      <td>13.000000</td>\n",
       "      <td>13.000000</td>\n",
       "      <td>51.000000</td>\n",
       "      <td>1.000000</td>\n",
       "      <td>0.000000</td>\n",
       "      <td>4.000000</td>\n",
       "      <td>1.533317</td>\n",
       "      <td>1.773900</td>\n",
       "    </tr>\n",
       "    <tr>\n",
       "      <th>75%</th>\n",
       "      <td>1.871457e+08</td>\n",
       "      <td>267.000000</td>\n",
       "      <td>174.000000</td>\n",
       "      <td>198.000000</td>\n",
       "      <td>692.000000</td>\n",
       "      <td>82.000000</td>\n",
       "      <td>0.000000</td>\n",
       "      <td>18.000000</td>\n",
       "      <td>4.443918</td>\n",
       "      <td>36.878183</td>\n",
       "    </tr>\n",
       "    <tr>\n",
       "      <th>max</th>\n",
       "      <td>2.160862e+08</td>\n",
       "      <td>57746.005396</td>\n",
       "      <td>19610.000000</td>\n",
       "      <td>19610.000000</td>\n",
       "      <td>730603.000000</td>\n",
       "      <td>736666.000000</td>\n",
       "      <td>4.000000</td>\n",
       "      <td>24260.000000</td>\n",
       "      <td>100.000000</td>\n",
       "      <td>1181.605035</td>\n",
       "    </tr>\n",
       "  </tbody>\n",
       "</table>\n",
       "</div>"
      ],
      "text/plain": [
       "           order_id    total_spent    V2_distance    V3_distance  \\\n",
       "count  1.900000e+05  190000.000000  157964.000000  158957.000000   \n",
       "mean   1.589366e+08     262.806693    1176.859443    1262.328208   \n",
       "std    3.234140e+07     497.157831    3088.102927    3206.620899   \n",
       "min    2.179327e+07       0.000000       0.000000       0.000000   \n",
       "25%    1.319893e+08      77.400000       4.000000       4.000000   \n",
       "50%    1.576925e+08     140.400000      13.000000      13.000000   \n",
       "75%    1.871457e+08     267.000000     174.000000     198.000000   \n",
       "max    2.160862e+08   57746.005396   19610.000000   19610.000000   \n",
       "\n",
       "          V4_our_age  V5_merchant_age          V8_ip      V9_cookie  \\\n",
       "count  189993.000000    189993.000000  185132.000000  189816.000000   \n",
       "mean      653.947451       216.220645       0.076579      82.207796   \n",
       "std      2046.051781      6976.480661       0.387298     589.419776   \n",
       "min         0.000000      -323.000000       0.000000       0.000000   \n",
       "25%         0.000000         0.000000       0.000000       0.000000   \n",
       "50%        51.000000         1.000000       0.000000       4.000000   \n",
       "75%       692.000000        82.000000       0.000000      18.000000   \n",
       "max    730603.000000    736666.000000       4.000000   24260.000000   \n",
       "\n",
       "          V10_cookie     V11_cookie  \n",
       "count  188148.000000  111295.000000  \n",
       "mean        5.305185      47.386270  \n",
       "std         9.227724     114.170882  \n",
       "min         0.000000    -140.884769  \n",
       "25%         0.631284       0.016134  \n",
       "50%         1.533317       1.773900  \n",
       "75%         4.443918      36.878183  \n",
       "max       100.000000    1181.605035  "
      ]
     },
     "execution_count": 13,
     "metadata": {},
     "output_type": "execute_result"
    }
   ],
   "source": [
    "raw_df.describe()"
   ]
  },
  {
   "cell_type": "markdown",
   "id": "de7343b8-324c-451a-b2e2-88cd48ad0bb4",
   "metadata": {},
   "source": [
    "Ovservations:\n",
    "1. Total spend has 0 - Declined?\n",
    "2. Our age - at least 25% are 0. NaN equivilant?\n",
    "3. Mechant age has negative values. 50% are <=1\n",
    "4. V8_ip looks categorical\n",
    "5. Suspected outliers of extreme values - all but v8_ip"
   ]
  },
  {
   "cell_type": "code",
   "execution_count": null,
   "id": "fc1febca-d22c-46c1-b324-1e8b16c68917",
   "metadata": {},
   "outputs": [],
   "source": [
    "ORDINAL_CAT_COLS = ['V8_ip']"
   ]
  },
  {
   "cell_type": "markdown",
   "id": "e0899eca-0eff-498b-b4ac-7e5aa5109446",
   "metadata": {},
   "source": [
    "### str/cat"
   ]
  },
  {
   "cell_type": "code",
   "execution_count": 16,
   "id": "5fdc7edf-68cc-4209-a000-139e5972073e",
   "metadata": {},
   "outputs": [
    {
     "data": {
      "text/html": [
       "<div>\n",
       "<style scoped>\n",
       "    .dataframe tbody tr th:only-of-type {\n",
       "        vertical-align: middle;\n",
       "    }\n",
       "\n",
       "    .dataframe tbody tr th {\n",
       "        vertical-align: top;\n",
       "    }\n",
       "\n",
       "    .dataframe thead th {\n",
       "        text-align: right;\n",
       "    }\n",
       "</style>\n",
       "<table border=\"1\" class=\"dataframe\">\n",
       "  <thead>\n",
       "    <tr style=\"text-align: right;\">\n",
       "      <th></th>\n",
       "      <th>status</th>\n",
       "      <th>email_anoni</th>\n",
       "      <th>billing_country_code</th>\n",
       "      <th>shipping_country_code</th>\n",
       "      <th>shipping_method</th>\n",
       "      <th>currency_code</th>\n",
       "      <th>gateway</th>\n",
       "      <th>V1_link</th>\n",
       "      <th>V6_avs_result</th>\n",
       "      <th>V7_bill_ship_name_match</th>\n",
       "    </tr>\n",
       "  </thead>\n",
       "  <tbody>\n",
       "    <tr>\n",
       "      <th>count</th>\n",
       "      <td>190000</td>\n",
       "      <td>190000</td>\n",
       "      <td>189223</td>\n",
       "      <td>189721</td>\n",
       "      <td>185461</td>\n",
       "      <td>190000</td>\n",
       "      <td>189862</td>\n",
       "      <td>189993</td>\n",
       "      <td>189993</td>\n",
       "      <td>189993</td>\n",
       "    </tr>\n",
       "    <tr>\n",
       "      <th>unique</th>\n",
       "      <td>3</td>\n",
       "      <td>189946</td>\n",
       "      <td>213</td>\n",
       "      <td>195</td>\n",
       "      <td>2367</td>\n",
       "      <td>35</td>\n",
       "      <td>255</td>\n",
       "      <td>2</td>\n",
       "      <td>7</td>\n",
       "      <td>4</td>\n",
       "    </tr>\n",
       "    <tr>\n",
       "      <th>top</th>\n",
       "      <td>approved</td>\n",
       "      <td>NA@personal_domain.com</td>\n",
       "      <td>US</td>\n",
       "      <td>US</td>\n",
       "      <td>value_1645</td>\n",
       "      <td>USD</td>\n",
       "      <td>value_65</td>\n",
       "      <td>False</td>\n",
       "      <td>Unsupported</td>\n",
       "      <td>FL</td>\n",
       "    </tr>\n",
       "    <tr>\n",
       "      <th>freq</th>\n",
       "      <td>165441</td>\n",
       "      <td>30</td>\n",
       "      <td>65900</td>\n",
       "      <td>71482</td>\n",
       "      <td>20896</td>\n",
       "      <td>124681</td>\n",
       "      <td>28344</td>\n",
       "      <td>188851</td>\n",
       "      <td>68569</td>\n",
       "      <td>167300</td>\n",
       "    </tr>\n",
       "  </tbody>\n",
       "</table>\n",
       "</div>"
      ],
      "text/plain": [
       "          status             email_anoni billing_country_code  \\\n",
       "count     190000                  190000               189223   \n",
       "unique         3                  189946                  213   \n",
       "top     approved  NA@personal_domain.com                   US   \n",
       "freq      165441                      30                65900   \n",
       "\n",
       "       shipping_country_code shipping_method currency_code   gateway V1_link  \\\n",
       "count                 189721          185461        190000    189862  189993   \n",
       "unique                   195            2367            35       255       2   \n",
       "top                       US      value_1645           USD  value_65   False   \n",
       "freq                   71482           20896        124681     28344  188851   \n",
       "\n",
       "       V6_avs_result V7_bill_ship_name_match  \n",
       "count         189993                  189993  \n",
       "unique             7                       4  \n",
       "top      Unsupported                      FL  \n",
       "freq           68569                  167300  "
      ]
     },
     "execution_count": 16,
     "metadata": {},
     "output_type": "execute_result"
    }
   ],
   "source": [
    "raw_df.select_dtypes(include=['object','category']).describe()"
   ]
  },
  {
   "cell_type": "markdown",
   "id": "39accb89-a92b-40b1-836a-e9d095af245f",
   "metadata": {},
   "source": [
    "Observations:\n",
    "1. Most common email is the NA - i.e. this is not a specific \n",
    "2. billing_country_code, shipping_country_code both have ~200 uniques so maybe aggregate somehow. Also gateway.\n",
    "2. Shipping method has 2367 nunique so consider how to handle - maybe one-hot is not so good.\n",
    "3. V1_link looks boolean so check why it's object - probably NaNs.\n",
    "4. Look at 'V6_avs_result' and see if unsupported is a special value. Either way it has 7 uniques."
   ]
  },
  {
   "cell_type": "code",
   "execution_count": 17,
   "id": "57bab8ea-d1b5-4a30-ae2e-9fe807af5108",
   "metadata": {},
   "outputs": [],
   "source": [
    "STR_CAT_COLS = ['status', 'billing_country_code', 'shipping_country_code', 'shipping_method', 'currency_code', 'V6_avs_result', 'V7_bill_ship_name_match'] # To be one-hot encoded\n",
    "STR_ORDINAL_COLS = [] # To be label encoded"
   ]
  },
  {
   "cell_type": "code",
   "execution_count": null,
   "id": "abf60627-8530-4c7f-a0b6-6c5bb06d107c",
   "metadata": {},
   "outputs": [],
   "source": []
  }
 ],
 "metadata": {
  "kernelspec": {
   "display_name": "Python 3 (ipykernel)",
   "language": "python",
   "name": "python3"
  },
  "language_info": {
   "codemirror_mode": {
    "name": "ipython",
    "version": 3
   },
   "file_extension": ".py",
   "mimetype": "text/x-python",
   "name": "python",
   "nbconvert_exporter": "python",
   "pygments_lexer": "ipython3",
   "version": "3.12.4"
  }
 },
 "nbformat": 4,
 "nbformat_minor": 5
}
